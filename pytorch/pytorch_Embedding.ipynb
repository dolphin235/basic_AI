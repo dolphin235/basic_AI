{
 "cells": [
  {
   "cell_type": "code",
   "execution_count": 1,
   "id": "5f71a73d",
   "metadata": {},
   "outputs": [],
   "source": [
    "# https://wikidocs.net/64779 참고"
   ]
  },
  {
   "cell_type": "code",
   "execution_count": 2,
   "id": "d84027e5",
   "metadata": {},
   "outputs": [],
   "source": [
    "import torch"
   ]
  },
  {
   "cell_type": "markdown",
   "id": "54a251f5",
   "metadata": {},
   "source": [
    "## Table을 만들어서 사용"
   ]
  },
  {
   "cell_type": "code",
   "execution_count": 3,
   "id": "c7f8df51",
   "metadata": {},
   "outputs": [
    {
     "name": "stdout",
     "output_type": "stream",
     "text": [
      "{'need': 2, 'to': 3, 'code': 4, 'know': 5, 'you': 6, 'how': 7, '<unk>': 0, '<pad>': 1}\n"
     ]
    }
   ],
   "source": [
    "train_data = 'you need to know how to code'\n",
    "\n",
    "# 중복을 제거한 단어들의 집합인 단어 집합 생성.\n",
    "word_set = set(train_data.split())\n",
    "\n",
    "# 단어 집합의 각 단어에 고유한 정수 맵핑.\n",
    "vocab = {word: i+2 for i, word in enumerate(word_set)}\n",
    "vocab['<unk>'] = 0\n",
    "vocab['<pad>'] = 1\n",
    "print(vocab)"
   ]
  },
  {
   "cell_type": "code",
   "execution_count": 4,
   "id": "aff79a3b",
   "metadata": {},
   "outputs": [],
   "source": [
    "# 단어 집합의 크기만큼의 행을 가지는 테이블 생성.\n",
    "# 3차원으로 결정\n",
    "# 초기 값은 랜덤으로 설정\n",
    "embedding_table = torch.FloatTensor([\n",
    "                               [ 0.0,  0.0,  0.0],\n",
    "                               [ 0.0,  0.0,  0.0],\n",
    "                               [ 0.2,  0.9,  0.3],\n",
    "                               [ 0.1,  0.5,  0.7],\n",
    "                               [ 0.2,  0.1,  0.8],\n",
    "                               [ 0.4,  0.1,  0.1],\n",
    "                               [ 0.1,  0.8,  0.9],\n",
    "                               [ 0.6,  0.1,  0.1]])"
   ]
  },
  {
   "cell_type": "code",
   "execution_count": 5,
   "id": "471d5f54",
   "metadata": {},
   "outputs": [
    {
     "name": "stdout",
     "output_type": "stream",
     "text": [
      "tensor([[0.1000, 0.8000, 0.9000],\n",
      "        [0.2000, 0.9000, 0.3000],\n",
      "        [0.1000, 0.5000, 0.7000],\n",
      "        [0.0000, 0.0000, 0.0000]])\n"
     ]
    }
   ],
   "source": [
    "sample = 'you need to run'.split()\n",
    "idxes = []\n",
    "\n",
    "# 각 단어를 정수로 변환\n",
    "for word in sample:\n",
    "    try:\n",
    "        idxes.append(vocab[word])\n",
    "        \n",
    "    # 단어 집합에 없는 단어일 경우 <unk>로 대체된다.\n",
    "    except KeyError:\n",
    "        idxes.append(vocab['<unk>'])\n",
    "idxes = torch.LongTensor(idxes)\n",
    "\n",
    "# 각 정수를 인덱스로 임베딩 테이블에서 값을 가져온다.\n",
    "lookup_result = embedding_table[idxes, :]\n",
    "print(lookup_result)"
   ]
  },
  {
   "cell_type": "markdown",
   "id": "da41e603",
   "metadata": {},
   "source": [
    "## nn.Embedding 사용"
   ]
  },
  {
   "cell_type": "code",
   "execution_count": 6,
   "id": "4cf1adf0",
   "metadata": {},
   "outputs": [],
   "source": [
    "train_data = 'you need to know how to code'\n",
    "\n",
    "# 중복을 제거한 단어들의 집합인 단어 집합 생성.\n",
    "word_set = set(train_data.split())\n",
    "\n",
    "# 단어 집합의 각 단어에 고유한 정수 맵핑.\n",
    "vocab = {tkn: i+2 for i, tkn in enumerate(word_set)}\n",
    "vocab['<unk>'] = 0\n",
    "vocab['<pad>'] = 1"
   ]
  },
  {
   "cell_type": "code",
   "execution_count": 7,
   "id": "249191ec",
   "metadata": {},
   "outputs": [],
   "source": [
    "import torch.nn as nn\n",
    "embedding_layer = nn.Embedding(num_embeddings=len(vocab), \n",
    "                               embedding_dim=3,\n",
    "                               padding_idx=1)"
   ]
  },
  {
   "cell_type": "markdown",
   "id": "abd76531",
   "metadata": {},
   "source": [
    "### nn.Embedding은 크게 두가지 인자를 받음\n",
    "- num_embeddings : 임베딩 할 단어의 개수, 단어 집합 크기\n",
    "- embedding_dim : 임베딩 할 벡터의 차원, 사용자가 정해주는 하이퍼파라미터\n",
    "\n",
    "+\n",
    "- padding_idx : 선택적으로 사용하는 인자, 패딩을 위한 토큰의 인덱스를 지정\n",
    "\n",
    "Table을 직접 만들지 않아도 nn.Embedding()을 통해 만들어줌"
   ]
  },
  {
   "cell_type": "code",
   "execution_count": 8,
   "id": "076ecc3c",
   "metadata": {},
   "outputs": [
    {
     "name": "stdout",
     "output_type": "stream",
     "text": [
      "Parameter containing:\n",
      "tensor([[ 0.8579,  0.5504,  0.2972],\n",
      "        [ 0.0000,  0.0000,  0.0000],\n",
      "        [ 0.6651,  0.7770, -0.7003],\n",
      "        [ 0.0606, -0.3395, -0.6762],\n",
      "        [ 0.2030,  0.2243,  0.3166],\n",
      "        [-0.7498, -1.8797,  0.4795],\n",
      "        [ 0.8300, -0.1493, -0.0649],\n",
      "        [ 0.7026,  1.0433,  0.5110]], requires_grad=True)\n"
     ]
    }
   ],
   "source": [
    "print(embedding_layer.weight)"
   ]
  },
  {
   "cell_type": "code",
   "execution_count": null,
   "id": "fadbedb3",
   "metadata": {},
   "outputs": [],
   "source": []
  },
  {
   "cell_type": "code",
   "execution_count": null,
   "id": "68176ec9",
   "metadata": {},
   "outputs": [],
   "source": []
  }
 ],
 "metadata": {
  "kernelspec": {
   "display_name": "Python 3 (ipykernel)",
   "language": "python",
   "name": "python3"
  },
  "language_info": {
   "codemirror_mode": {
    "name": "ipython",
    "version": 3
   },
   "file_extension": ".py",
   "mimetype": "text/x-python",
   "name": "python",
   "nbconvert_exporter": "python",
   "pygments_lexer": "ipython3",
   "version": "3.7.11"
  }
 },
 "nbformat": 4,
 "nbformat_minor": 5
}
